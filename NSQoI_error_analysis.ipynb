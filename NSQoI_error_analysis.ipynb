{
 "cells": [
  {
   "cell_type": "markdown",
   "metadata": {},
   "source": [
    "<div align=\"center\">\n",
    "\n",
    "# Demonstration of two different a posteriori error analyses for a non-standard quantity of interest\n",
    "\n",
    "\n",
    "## Authors: Zachary D Stevens and Jehanzeb Chaudhry\n",
    "    \n",
    "#### Department of Mathematics and Statistics\n",
    "#### University of New Mexico\n",
    "    \n",
    "    \n",
    "### Research supported by NSF grant #1720402\n",
    "\n",
    "\n",
    "\n"
   ]
  },
  {
   "cell_type": "markdown",
   "metadata": {},
   "source": [
    "This notebook numerically illustrates the a posteriori estimates derived in the work:\n",
    "\n",
    "\n",
    "<a id=\"1\"></a> \n",
    "Chaudhry, Estep, Stevens, Tavener. Error estimation and uncertainty quantification for first time to athreshold value (2020)\n",
    "\n",
    "The error estimates are for ODEs of the form\n",
    "\n",
    "$$ \\dot{y} = f(y,t) $$\n",
    "\n",
    "Given a functional $S(y(t))$ and a threshold value $R$, the non-standard quantity of interest takes the form\n",
    "\n",
    "$$Q(y) =\\min_{t\\in[t_0,T]} arg\\left( S(y(t))=R\\right) $$\n",
    "\n",
    "The ODE is solved using two methods; cG(1) and Crank-Nicolson. Let $Y(t)$ denote a numerical solution. This notebook implements the three methods detailed in the above reference to estimate the error $Q(y)-Q(Y)$. The first method utilizes Taylor's theorem while the other methods use root-finding schemes. All three methods require certain adjoint problems to be solved."
   ]
  },
  {
   "cell_type": "code",
   "execution_count": 1,
   "metadata": {},
   "outputs": [],
   "source": [
    "import numpy as np\n",
    "import matplotlib.pyplot as plt\n",
    "from scipy.interpolate import lagrange\n",
    "from NSQoI_and_error_functions import *\n",
    "import scipy.optimize as opt"
   ]
  },
  {
   "cell_type": "code",
   "execution_count": 2,
   "metadata": {},
   "outputs": [],
   "source": [
    "###Initialize problem and discretization\n",
    "q=1      #Degree of cG(q) forward solver\n",
    "t0=0     #initial time\n",
    "T=1      #final time\n",
    "y0=1.    #initial condition\n",
    "F=lambda t: np.sin(2*np.pi*t)  #RHS function of ode in form y'=f(t)y. Used in the cG(q) solver.\n",
    "F_CN=lambda t,y: np.sin(2.*np.pi*t)*y  #RHS function of ode in form y'=f(t,y). Used in the Crank-Nicolson solver.\n",
    "\n",
    "\n",
    "##Set up QoI\n",
    "##the functional is S(y(t))=y(t)\n",
    "R=1.3 #threshold value\n",
    "\n",
    "\n",
    "##True, analytic solution and QoI\n",
    "y_true= lambda x: np.exp((1/(2*np.pi))*(1.-np.cos(2*np.pi*x)))\n",
    "true_time=np.arccos(-2*np.pi*np.log(R)+1)/(2*np.pi)\n",
    "\n",
    "\n",
    "#Set up Adjoint problem\n",
    "q2=q+2              #Degree of cG(q2) adjoint solver\n",
    "N=100 #number of sub-intervals for adjoint solver\n",
    "phi0=1.             #Initial value of Adjoint\n",
    "F_Adj=lambda X: -np.sin(2*np.pi*X) #RHS of adjoint problems"
   ]
  },
  {
   "cell_type": "code",
   "execution_count": 3,
   "metadata": {},
   "outputs": [
    {
     "name": "stdout",
     "output_type": "stream",
     "text": [
      "Q(Y)= 0.3626248878663315\n"
     ]
    }
   ],
   "source": [
    "### CG(q) solution and grid\n",
    "\n",
    "M=40                    #number of sub-intervals for cG(q) solver\n",
    "t=np.linspace(t0,T,M+1) #time-grid\n",
    "Y=solve_lin(y0,F,t,q)   #solve using cG(q)\n",
    "\n",
    "##Compute QoI and determine surrounding nodes/function values.\n",
    "##The nodes/values are needed for the root-finding methods.\n",
    "##example of notation: Y(tL)=YL and tL is the NL-th node in the time-grid.\n",
    "[YL,Y1,Y2,YR,NL,N1,N2,NR,tL,t1,t2,tR,num_time]=window_numtime(Y,t,q,R)\n",
    "\n",
    "#numerical QoI\n",
    "print('Q(Y)=',num_time)\n",
    "\n",
    "#Get True Error in QoI\n",
    "error_true = true_time - num_time"
   ]
  },
  {
   "cell_type": "code",
   "execution_count": 4,
   "metadata": {},
   "outputs": [
    {
     "name": "stdout",
     "output_type": "stream",
     "text": [
      "Q(Y)= 0.3663158720815092\n"
     ]
    }
   ],
   "source": [
    "### Crank-Nicolson (C-N) solution and grid\n",
    "\n",
    "M=20                      #number of sub-intervals for C-N solver\n",
    "t=np.linspace(t0,T,M+1)   #time-grid\n",
    "Y=solve_CN_1D(y0,t,F_CN)  #solve using C-N\n",
    "\n",
    "\n",
    "##Compute QoI and determine surrounding nodes/function values.\n",
    "##The nodes/values are needed for the root-finding methods.\n",
    "##example of notation: Y(tL)=YL and tL is the NL-th node in the time-grid.\n",
    "[YL,Y1,Y2,YR,NL,N1,N2,NR,tL,t1,t2,tR,num_time]=window_numtime(Y,t,q,R)\n",
    "\n",
    "#numerical QoI\n",
    "print('Q(Y)=',num_time)\n",
    "\n",
    "#Get True Error in QoI\n",
    "error_true = true_time - num_time"
   ]
  },
  {
   "cell_type": "code",
   "execution_count": 5,
   "metadata": {},
   "outputs": [
    {
     "name": "stdout",
     "output_type": "stream",
     "text": [
      "true error -0.004017688932066776\n",
      "estimate -0.004056579230855135\n",
      "effect 1.009679768505212\n"
     ]
    }
   ],
   "source": [
    "### Error Estimate: Taylor Series method.\n",
    "\n",
    "print('true error',error_true)\n",
    "\n",
    "tadj=np.linspace(num_time,t0,N+1) #grid for adjoint problem\n",
    "adj=solve_lin(phi0,F_Adj,tadj,q2) #solve adjoint problem\n",
    "\n",
    "E=get_err_lin(Y,adj[::-1],F,q,q2,t,tadj[::-1])[0] #Term required for overall error\n",
    "jac=F(num_time) #jacobian, w.r.t 'y', of RHS=F(t)y\n",
    "est=-E/(jac*E+F(num_time)*R) #error formula\n",
    "print('estimate',est)\n",
    "print('effect',est/error_true)"
   ]
  },
  {
   "cell_type": "code",
   "execution_count": 6,
   "metadata": {},
   "outputs": [
    {
     "name": "stdout",
     "output_type": "stream",
     "text": [
      "corrected time value\n",
      "0.36229818314944967\n",
      "Estimated error in QoI\n",
      "-0.004017688932059504\n",
      "secant method effectivity\n",
      "0.99999999999819\n",
      "Number of Adjoints needed\n",
      "7\n"
     ]
    }
   ],
   "source": [
    "### Secant method with corrected nodes:\n",
    "#Finds root of a function g=Y+e-R. The first root of this function is equal to the true QoI: Q(y).\n",
    "#where Y=numerical solution, e=Y-y (error in numerical solution), R=threshold-value\n",
    "\n",
    "\n",
    "### Secant method requires two initial points. Use x0,x1 such that x0 <Q(Y)< x1\n",
    "x0=t1\n",
    "x1=t2\n",
    "func=lambda x:evalfunc(Y,t,q,x) #interpolate 'Y' between grid nodes\n",
    "\n",
    "##Use adjoint-based error formulas to get corrected function values: \n",
    "#error at left point:\n",
    "t1phi=np.linspace(x0,t0,N+1) #grid\n",
    "phi1=solve_lin(phi0,F_Adj,t1phi,q2) #adjoint solution\n",
    "E0=get_err_lin(Y,phi1[::-1],F,q,q2,t,t1phi[::-1])[0] #error\n",
    "\n",
    "#error at right point:\n",
    "t2phi=np.linspace(x1,t0,N+1) #grid \n",
    "phi2=solve_lin(phi0,F_Adj,t2phi,q2) #adjoint solution\n",
    "E1=get_err_lin(Y,phi2[::-1],F,q,q2,t,t2phi[::-1])[0] #error\n",
    "\n",
    "#corrected function values:Y+e\n",
    "a0=func(x0)+E0\n",
    "a1=func(x1)+E1\n",
    "\n",
    "#tolerance for secant method\n",
    "tol=10**(-12)\n",
    "\n",
    "#initialize\n",
    "y_error=1.\n",
    "counter=0\n",
    "\n",
    "while y_error>tol:\n",
    "    if counter == 100:#cap on number of iterations\n",
    "        print('did not converge')\n",
    "        break\n",
    "    x2=sec_method_step(a0,a1,x0,x1,R) #one step of secant method\n",
    "    \n",
    "    #find error in Y at resulting point 'x2'\n",
    "    tphi=np.linspace(x2,t0,101) #grid\n",
    "    phi=solve_lin(phi0,F_Adj,tphi,q2) #adjoint solution \n",
    "    E2=get_err_lin(Y,phi[::-1],F,q,q2,t,tphi[::-1])[0] #error\n",
    "    a2=func(x2)+E2 #corrected function value Y+e\n",
    "    \n",
    "    #update for next iteration\n",
    "    y_error=abs(a2-R)\n",
    "    a0=a1\n",
    "    a1=a2\n",
    "    x0=x1\n",
    "    x1=x2\n",
    "    \n",
    "    counter+=1\n",
    "    \n",
    "print('corrected time value')\n",
    "print(x2)\n",
    "print('Estimated error in QoI')\n",
    "print(x2-num_time)\n",
    "print('secant method effectivity')\n",
    "print((x2-num_time)/error_true)\n",
    "print('Number of Adjoints needed')\n",
    "print(counter+2)#add 2 for the initial 2 before starting iterations"
   ]
  },
  {
   "cell_type": "code",
   "execution_count": 7,
   "metadata": {},
   "outputs": [
    {
     "name": "stdout",
     "output_type": "stream",
     "text": [
      "corrected time value\n",
      "0.3622981831494497\n",
      "error in QoI\n",
      "-0.004017688932059449\n",
      "inverse quadratic method effectivity\n",
      "0.9999999999981762\n",
      "Number of Adjoints Needed\n",
      "7\n"
     ]
    }
   ],
   "source": [
    "### Inverse quadratic interpolation method with corrected nodes:\n",
    "#Finds root of a function g=Y+e-R. The first root of this function is equal to the true QoI: Q(y).\n",
    "#where Y=numerical solution, e=Y-y (error in numerical solution), R=threshold-value\n",
    "\n",
    "\n",
    "### Inverse quadratic interpolation method requires three initial points. Use x0,x1 such that x0 <x1<Q(Y)< x2\n",
    "\n",
    "x0=tL\n",
    "x1=t1\n",
    "x2=t2\n",
    "func=lambda x:evalfunc(Y,t,q,x) #interpolate 'Y' between grid nodes\n",
    "\n",
    "##Use adjoint-based error formulas to get corrected function values: \n",
    "#error at first point x0\n",
    "tLphi=np.linspace(x0,t0,N+1) #grid \n",
    "phiL=solve_lin(phi0,F_Adj,tLphi,q2) #solution to adjoint\n",
    "E0=get_err_lin(Y,phiL[::-1],F,q,q2,t,tLphi[::-1])[0] #error\n",
    "\n",
    "#error at second point x1\n",
    "t1phi=np.linspace(x1,t0,N+1) #grid \n",
    "phi1=solve_lin(phi0,F_Adj,t1phi,q2) #solution to adjoint\n",
    "E1=get_err_lin(Y,phi1[::-1],F,q,q2,t,t1phi[::-1])[0] #error\n",
    "\n",
    "#error at third point x2\n",
    "t2phi=np.linspace(x2,t0,N+1) #grid \n",
    "phi2=solve_lin(phi0,F_Adj,t2phi,q2) #solution to adjoint\n",
    "E2=get_err_lin(Y,phi2[::-1],F,q,q2,t,t2phi[::-1])[0] #error\n",
    "\n",
    "\n",
    "#Corrected function values: Y+e\n",
    "a0=func(x0)+E0\n",
    "a1=func(x1)+E1\n",
    "a2=func(x2)+E2\n",
    "\n",
    "\n",
    "#tolerance for inverse quad. method\n",
    "tol=10**(-12)\n",
    "\n",
    "#initialize\n",
    "y_error=1.\n",
    "counter=0\n",
    "\n",
    "while y_error>tol:\n",
    "    if counter == 100:#cap on number of iterations\n",
    "        print('did not converge')\n",
    "        break\n",
    "    x3=inv_quad_step(a0,a1,a2,x0,x1,x2,R) #one step of inverse quad. method\n",
    "    \n",
    "    #find error in Y at resulting point x3\n",
    "    tphi=np.linspace(x3,t0,N+1) #grid\n",
    "    phi=solve_lin(phi0,F_Adj,tphi,q2) #solution to adjoint\n",
    "    E3=get_err_lin(Y,phi[::-1],F,q,q2,t,tphi[::-1])[0] #error\n",
    "    a3=func(x3)+E3 #corrected function value: Y+e\n",
    "    \n",
    "    #update for next iteration\n",
    "    y_error=abs(a3-R)\n",
    "    a0=a1\n",
    "    a1=a2\n",
    "    a2=a3\n",
    "    x0=x1\n",
    "    x1=x2\n",
    "    x2=x3\n",
    "    counter+=1\n",
    "    \n",
    "print('corrected time value')\n",
    "print(x3)\n",
    "print('error in QoI')\n",
    "print(x3-num_time)\n",
    "print('inverse quadratic method effectivity')\n",
    "print((x3-num_time)/error_true)\n",
    "print('Number of Adjoints Needed')\n",
    "print(counter+3)#add 3 for the initial 3 before starting iterations"
   ]
  },
  {
   "cell_type": "code",
   "execution_count": 8,
   "metadata": {},
   "outputs": [
    {
     "ename": "NameError",
     "evalue": "name 'dense' is not defined",
     "output_type": "error",
     "traceback": [
      "\u001b[0;31m---------------------------------------------------------------------------\u001b[0m",
      "\u001b[0;31mNameError\u001b[0m                                 Traceback (most recent call last)",
      "\u001b[0;32m<ipython-input-8-a7ee93c55faf>\u001b[0m in \u001b[0;36m<module>\u001b[0;34m\u001b[0m\n\u001b[1;32m      3\u001b[0m \u001b[0mdense_grid\u001b[0m\u001b[0;34m=\u001b[0m\u001b[0mnp\u001b[0m\u001b[0;34m.\u001b[0m\u001b[0mlinspace\u001b[0m\u001b[0;34m(\u001b[0m\u001b[0mt0\u001b[0m\u001b[0;34m,\u001b[0m\u001b[0mT\u001b[0m\u001b[0;34m,\u001b[0m\u001b[0;36m500\u001b[0m\u001b[0;34m)\u001b[0m\u001b[0;34m\u001b[0m\u001b[0;34m\u001b[0m\u001b[0m\n\u001b[1;32m      4\u001b[0m \u001b[0mplt\u001b[0m\u001b[0;34m.\u001b[0m\u001b[0maxhline\u001b[0m\u001b[0;34m(\u001b[0m\u001b[0my\u001b[0m\u001b[0;34m=\u001b[0m\u001b[0mR\u001b[0m\u001b[0;34m,\u001b[0m \u001b[0mcolor\u001b[0m \u001b[0;34m=\u001b[0m \u001b[0;34m'red'\u001b[0m\u001b[0;34m)\u001b[0m\u001b[0;34m\u001b[0m\u001b[0;34m\u001b[0m\u001b[0m\n\u001b[0;32m----> 5\u001b[0;31m \u001b[0mplt\u001b[0m\u001b[0;34m.\u001b[0m\u001b[0mplot\u001b[0m\u001b[0;34m(\u001b[0m\u001b[0mdense\u001b[0m\u001b[0;34m,\u001b[0m\u001b[0my_true\u001b[0m\u001b[0;34m(\u001b[0m\u001b[0mdense_grid\u001b[0m\u001b[0;34m)\u001b[0m\u001b[0;34m)\u001b[0m\u001b[0;34m\u001b[0m\u001b[0;34m\u001b[0m\u001b[0m\n\u001b[0m\u001b[1;32m      6\u001b[0m \u001b[0mplt\u001b[0m\u001b[0;34m.\u001b[0m\u001b[0maxvline\u001b[0m\u001b[0;34m(\u001b[0m\u001b[0mx\u001b[0m\u001b[0;34m=\u001b[0m\u001b[0mtrue_time\u001b[0m\u001b[0;34m,\u001b[0m \u001b[0mcolor\u001b[0m \u001b[0;34m=\u001b[0m \u001b[0;34m'green'\u001b[0m\u001b[0;34m)\u001b[0m\u001b[0;34m\u001b[0m\u001b[0;34m\u001b[0m\u001b[0m\n\u001b[1;32m      7\u001b[0m \u001b[0;34m\u001b[0m\u001b[0m\n",
      "\u001b[0;31mNameError\u001b[0m: name 'dense' is not defined"
     ]
    },
    {
     "data": {
      "image/png": "[encoded data removed]",
      "text/plain": [
       "<Figure size 432x288 with 1 Axes>"
      ]
     },
     "metadata": {
      "needs_background": "light"
     },
     "output_type": "display_data"
    }
   ],
   "source": [
    "#Graph the true values of the functional S(y(t))=y(t) along with the threshold value R and the QoI Q(Y)=min{t:S(y(t))=R}\n",
    "\n",
    "dense_grid=np.linspace(t0,T,500)\n",
    "plt.axhline(y=R, color = 'red')\n",
    "plt.plot(dense,y_true(dense_grid))\n",
    "plt.axvline(x=true_time, color = 'green')\n",
    "\n",
    "plt.xlabel('t')\n",
    "plt.ylabel('S(y(t))')\n",
    "\n",
    "plt.legend(['R','S(y(t))','Q(y)'])\n"
   ]
  },
  {
   "cell_type": "code",
   "execution_count": null,
   "metadata": {},
   "outputs": [],
   "source": [
    "#close up comparing the numerical functional S(Y(t)) and numerical QoI Q(Y) with the true functional S(y(t)) and the true QoI Q(y)\n",
    "\n",
    "dense=np.linspace(t0,T,500)\n",
    "plt.axhline(y=R, color = 'red')\n",
    "plt.plot(dense,y_true(dense),color='blue')\n",
    "plt.axvline(x=true_time, color = 'green')\n",
    "plt.plot(t,Y,linestyle='dashed',color='blue')\n",
    "plt.axvline(x=num_time, linestyle='dashed',color = 'green')\n",
    "plt.xlabel('t')\n",
    "plt.ylabel('S(y(t))')\n",
    "plt.legend(['R','S(y(t))','Q(y)','S(Y(t))','Q(Y)'])\n",
    "plt.ylim(1.295,1.305)\n",
    "plt.xlim(0.36,0.37)\n"
   ]
  }
 ],
 "metadata": {
  "kernelspec": {
   "display_name": "Python 3",
   "language": "python",
   "name": "python3"
  },
  "language_info": {
   "codemirror_mode": {
    "name": "ipython",
    "version": 3
   },
   "file_extension": ".py",
   "mimetype": "text/x-python",
   "name": "python",
   "nbconvert_exporter": "python",
   "pygments_lexer": "ipython3",
   "version": "3.7.4"
  }
 },
 "nbformat": 4,
 "nbformat_minor": 4
}
